{
  "nbformat": 4,
  "nbformat_minor": 0,
  "metadata": {
    "colab": {
      "provenance": []
    },
    "kernelspec": {
      "name": "python3",
      "display_name": "Python 3"
    },
    "language_info": {
      "name": "python"
    }
  },
  "cells": [
    {
      "cell_type": "markdown",
      "source": [
        "**Script Updation_NLP**\n",
        "\n",
        "\n",
        "Takes a script as an input.\n",
        "\n",
        "Performs POS tagging.\n",
        "\n",
        "Generates questions to the user from the specific nouns present in the script.\n",
        "\n",
        "Modifies the script based on the answers provided by the user for each question.\n",
        "\n",
        "Using sentence detection, it seperates each and every sentence from the modified script and gives the output as list which will be feeded to the diffuser model.\n",
        "\n",
        "\n",
        "\n"
      ],
      "metadata": {
        "id": "5zB88fgOMDcq"
      }
    },
    {
      "cell_type": "code",
      "source": [
        "import spacy"
      ],
      "metadata": {
        "id": "_97YN0VxOW7o"
      },
      "execution_count": null,
      "outputs": []
    },
    {
      "cell_type": "code",
      "source": [
        "nlp = spacy.load(\"en_core_web_sm\")"
      ],
      "metadata": {
        "id": "_HO92GjhOVrq"
      },
      "execution_count": null,
      "outputs": []
    },
    {
      "cell_type": "markdown",
      "source": [
        "Opens and reads a text file\n",
        "Sentence detection"
      ],
      "metadata": {
        "id": "XAjcP8qcN2QW"
      }
    },
    {
      "cell_type": "code",
      "source": [
        "with open(\"/content/Script _2.txt\", \"r\") as file:\n",
        "  text = file.read()\n",
        "doc = nlp(text)\n",
        "sents = list(doc.sents)\n",
        "print(\"No. of Sentence in given prompt:\",len(sents))"
      ],
      "metadata": {
        "colab": {
          "base_uri": "https://localhost:8080/"
        },
        "id": "6SEfUa1oOdCC",
        "outputId": "79d4e590-7ed4-4eda-d087-144a8500789d"
      },
      "execution_count": null,
      "outputs": [
        {
          "output_type": "stream",
          "name": "stdout",
          "text": [
            "No. of Sentence in given prompt: 21\n"
          ]
        }
      ]
    },
    {
      "cell_type": "code",
      "source": [
        "for sent in sents:\n",
        "    print(f\"{sent}\")"
      ],
      "metadata": {
        "colab": {
          "base_uri": "https://localhost:8080/"
        },
        "id": "HihcaNYOOfzV",
        "outputId": "d8972e7d-a7c8-4236-b008-708e92bb2b8c"
      },
      "execution_count": null,
      "outputs": [
        {
          "output_type": "stream",
          "name": "stdout",
          "text": [
            "In a peaceful neighborhood, we find a curious cat and an energetic dog living next door to each other.\n",
            "They lead separate lives, unaware of the incredible friendship that awaits them.\n",
            "One sunny day, as the cat strolls through the neighborhood, it spots the dog playing with a ball in the backyard.\n",
            "Intrigued, the cat approaches cautiously, and their eyes meet for the first time.\n",
            "\n",
            "The cat and dog engage in a playful game of chase, running through the park and rolling in the grass.\n",
            "Their energy and excitement bring laughter and joy to both.\n",
            "As the days pass, the cat and dog embark on countless adventures together.\n",
            "They explore hidden paths, climb trees, and discover new places, creating lasting memories.\n",
            "During a stormy night, the cat seeks shelter under a porch, scared by the thunder.\n",
            "The dog rushes to its side, providing comfort and reassurance.\n",
            "Their bond strengthens as they offer support to one another.\n",
            "\n",
            "The cat teaches the dog the art of stealth and graceful movements, while the dog shows the cat the thrill of a game of fetch.\n",
            "They learn from each other's unique abilities, making them a formidable team.\n",
            "\n",
            "In a moment of danger, the cat and dog stand together, bravely protecting each other.\n",
            "Their unwavering loyalty and friendship prevail, showcasing the strength of their bond.\n",
            "As time goes by, heartwarming moments become a part of their daily lives.\n",
            "They cuddle together under a warm blanket, share meals, and express their affection through gentle nudges and purrs.\n",
            "\n",
            "To celebrate their incredible friendship, the cat and dog gather their animal friends for a joyful party.\n",
            "Laughter, games, and a sense of camaraderie filled the air, showcasing the power of friendship among different species.\n",
            "In a quiet moment, the cat and dog sit side by side, reflecting on their journey.\n",
            "They express gratitude for finding each other and the profound joy and companionship they've experienced.\n",
            "\n"
          ]
        }
      ]
    },
    {
      "cell_type": "markdown",
      "source": [
        "POS tagging to find nouns and verbs"
      ],
      "metadata": {
        "id": "EdDMaSFsOCQ2"
      }
    },
    {
      "cell_type": "code",
      "source": [
        "l=[]"
      ],
      "metadata": {
        "id": "GnsK-G0WOqIE"
      },
      "execution_count": null,
      "outputs": []
    },
    {
      "cell_type": "code",
      "source": [
        "for sent in range(len(sents)):\n",
        "  d={\"NOUN\":[],\"VERB\":[]}\n",
        "  for i in sents[sent]:\n",
        "    if(i.pos_ == \"NOUN\" or i.pos_ == \"VERB\"):\n",
        "      d[i.pos_].append(str(i))\n",
        "  l.append(d)\n",
        "  print(\"Script \",sent+1,\":\",l[sent])"
      ],
      "metadata": {
        "colab": {
          "base_uri": "https://localhost:8080/"
        },
        "id": "Wu0RRpsuOtxK",
        "outputId": "ef94b342-e976-4308-d8ad-8d80c9f1dee3"
      },
      "execution_count": null,
      "outputs": [
        {
          "output_type": "stream",
          "name": "stdout",
          "text": [
            "Script  1 : {'NOUN': ['neighborhood', 'cat', 'dog', 'door'], 'VERB': ['find', 'living']}\n",
            "Script  2 : {'NOUN': ['lives', 'friendship'], 'VERB': ['lead', 'awaits']}\n",
            "Script  3 : {'NOUN': ['day', 'cat', 'neighborhood', 'dog', 'ball', 'backyard'], 'VERB': ['strolls', 'spots', 'playing']}\n",
            "Script  4 : {'NOUN': ['cat', 'eyes', 'time'], 'VERB': ['Intrigued', 'approaches', 'meet']}\n",
            "Script  5 : {'NOUN': ['cat', 'dog', 'engage', 'game', 'chase', 'park', 'grass'], 'VERB': ['running', 'rolling']}\n",
            "Script  6 : {'NOUN': ['energy', 'excitement', 'laughter', 'joy'], 'VERB': ['bring']}\n",
            "Script  7 : {'NOUN': ['days', 'cat', 'dog', 'embark', 'adventures'], 'VERB': ['pass']}\n",
            "Script  8 : {'NOUN': ['paths', 'climb', 'trees', 'places', 'memories'], 'VERB': ['explore', 'discover', 'creating']}\n",
            "Script  9 : {'NOUN': ['night', 'cat', 'shelter', 'porch', 'thunder'], 'VERB': ['seeks', 'scared']}\n",
            "Script  10 : {'NOUN': ['dog', 'side', 'comfort', 'reassurance'], 'VERB': ['rushes', 'providing']}\n",
            "Script  11 : {'NOUN': ['bond', 'support'], 'VERB': ['strengthens', 'offer']}\n",
            "Script  12 : {'NOUN': ['cat', 'dog', 'art', 'movements', 'dog', 'cat', 'thrill', 'game', 'fetch'], 'VERB': ['teaches', 'shows']}\n",
            "Script  13 : {'NOUN': ['abilities', 'team'], 'VERB': ['learn', 'making']}\n",
            "Script  14 : {'NOUN': ['moment', 'danger', 'cat', 'dog'], 'VERB': ['stand', 'protecting']}\n",
            "Script  15 : {'NOUN': ['loyalty', 'friendship', 'prevail', 'strength', 'bond'], 'VERB': ['showcasing']}\n",
            "Script  16 : {'NOUN': ['time', 'heartwarming', 'moments', 'part', 'lives'], 'VERB': ['goes', 'become']}\n",
            "Script  17 : {'NOUN': ['blanket', 'share', 'meals', 'affection', 'nudges', 'purrs'], 'VERB': ['cuddle', 'express']}\n",
            "Script  18 : {'NOUN': ['friendship', 'cat', 'dog', 'animal', 'friends', 'party'], 'VERB': ['celebrate', 'gather']}\n",
            "Script  19 : {'NOUN': ['Laughter', 'games', 'sense', 'camaraderie', 'air', 'power', 'friendship', 'species'], 'VERB': ['filled', 'showcasing']}\n",
            "Script  20 : {'NOUN': ['moment', 'cat', 'dog', 'side', 'side', 'journey'], 'VERB': ['sit', 'reflecting']}\n",
            "Script  21 : {'NOUN': ['gratitude', 'joy', 'companionship'], 'VERB': ['express', 'finding', 'experienced']}\n"
          ]
        }
      ]
    },
    {
      "cell_type": "markdown",
      "source": [
        "Function to generate question, store answers and modify the script."
      ],
      "metadata": {
        "id": "3yZFgXEkOVDS"
      }
    },
    {
      "cell_type": "code",
      "source": [
        "def generate(text):\n",
        "    nlp = spacy.load('en_core_web_sm')\n",
        "    doc = nlp(text)\n",
        "    sents = list(doc.sents)\n",
        "    script = \"\"\n",
        "    questions = []\n",
        "    subjects = set()\n",
        "    nouns = set()\n",
        "    proper_nouns = set()\n",
        "    for sent in range(len(sents)):\n",
        "        d = {'subject': '', 'preceding_nouns': set()}\n",
        "        subject_found = False\n",
        "        for i in sents[sent]:\n",
        "            if i.dep_ == \"nsubj\" and i.pos_ == \"NOUN\" and not subject_found and str(i) not in subjects:\n",
        "                d['subject'] = str(i)\n",
        "                subject_found = True\n",
        "                subjects.add(str(i))\n",
        "            elif i.pos_ == \"NOUN\" and str(i) != d['subject'] and str(i) not in nouns:\n",
        "                if i.pos_ == \"PROPN\":\n",
        "                    proper_nouns.add(str(i))\n",
        "                else:\n",
        "                    d['preceding_nouns'].add(str(i))\n",
        "                nouns.add(str(i))\n",
        "        if d['subject'] != '':\n",
        "            script += \"Script {}: Subject: {}\\n\".format(sent + 1, d['subject'])\n",
        "            if d['preceding_nouns']:\n",
        "                script += \"Preceding Nouns: {}\\n\".format(\", \".join(list(d['preceding_nouns'])))\n",
        "            if proper_nouns:\n",
        "                script += \"Proper Nouns: {}\\n\".format(\", \".join(list(proper_nouns)))\n",
        "\n",
        "            if d['subject'] in nouns:\n",
        "                question = \"Describe the features of {}?\".format(d['subject'])\n",
        "            else:\n",
        "                question = \"Specify more details about {}?\".format(d['subject'])\n",
        "            questions.append(question)\n",
        "        else:\n",
        "            script += \"Script {}: None\\n\".format(sent + 1)\n",
        "    return script, questions\n",
        "\n",
        "def g_answers(questions):\n",
        "    answers = []\n",
        "    for question in questions:\n",
        "        answer = input(question + \" \")\n",
        "        answers.append(answer)\n",
        "    return answers\n",
        "\n",
        "def g_text(text, questions, answers):\n",
        "    new_text = text\n",
        "    for i, answer in enumerate(answers):\n",
        "        noun = questions[i].split(' ')[-1].strip('?')\n",
        "        new_text = new_text.replace(noun, f\"{answer} {noun}\")\n",
        "    return new_text\n",
        "script, questions = generate(text)\n",
        "answers = g_answers(questions)\n",
        "new_text = g_text(text, questions, answers)\n",
        "print(\"\\n\")\n",
        "print(new_text)"
      ],
      "metadata": {
        "colab": {
          "base_uri": "https://localhost:8080/"
        },
        "id": "SvsSdPARNlQh",
        "outputId": "f2071882-2690-4aaf-c5ed-56a4d3e1d282"
      },
      "execution_count": null,
      "outputs": [
        {
          "output_type": "stream",
          "name": "stdout",
          "text": [
            "Describe the features of cat? white\n",
            "Specify more details about eyes? blue\n",
            "Specify more details about energy? high\n",
            "Specify more details about days? past\n",
            "Describe the features of dog? brown\n",
            "Specify more details about bond? intact\n",
            "Describe the features of time? current\n",
            "Specify more details about Laughter? enormus\n",
            "\n",
            "\n",
            "In a peaceful neighborhood, we find a curious white cat and an energetic brown dog living next door to each other. They lead separate lives, unaware of the incredible friendship that awaits them. One sunny day, as the white cat strolls through the neighborhood, it spots the brown dog playing with a ball in the backyard. Intrigued, the white cat approaches cautiously, and their blue eyes meet for the first current time.\n",
            "The white cat and brown dog engage in a playful game of chase, running through the park and rolling in the grass. Their high energy and excitement bring laughter and joy to both. As the past days pass, the white cat and brown dog embark on countless adventures together. They explore hidden paths, climb trees, and discover new places, creating lasting memories. During a stormy night, the white cat seeks shelter under a porch, scared by the thunder. The brown dog rushes to its side, providing comfort and reassurance. Their intact bond strengthens as they offer support to one another.\n",
            "The white cat teaches the brown dog the art of stealth and graceful movements, while the brown dog shows the white cat the thrill of a game of fetch. They learn from each other's unique abilities, making them a formidable team.\n",
            "In a moment of danger, the white cat and brown dog stand together, bravely protecting each other. Their unwavering loyalty and friendship prevail, showcasing the strength of their intact bond. As current time goes by, heartwarming moments become a part of their daily lives. They cuddle together under a warm blanket, share meals, and express their affection through gentle nudges and purrs.\n",
            "To celebrate their incredible friendship, the white cat and brown dog gather their animal friends for a joyful party. enormus Laughter, games, and a sense of camaraderie filled the air, showcasing the power of friendship among different species. In a quiet moment, the white cat and brown dog sit side by side, reflecting on their journey. They express gratitude for finding each other and the profound joy and companionship they've experienced.\n",
            "\n"
          ]
        }
      ]
    },
    {
      "cell_type": "markdown",
      "source": [
        "Sentence detection for modified text"
      ],
      "metadata": {
        "id": "frXu3gGJPIPd"
      }
    },
    {
      "cell_type": "code",
      "source": [
        "doc1=nlp(new_text)\n",
        "sents1=list(doc1.sents)\n",
        "for sent in sents1:\n",
        "  print(f\"{sent}\")"
      ],
      "metadata": {
        "colab": {
          "base_uri": "https://localhost:8080/"
        },
        "id": "1W9SR_v2PJdR",
        "outputId": "a346a3e2-7537-4dc1-d5b6-fa7418110fb8"
      },
      "execution_count": null,
      "outputs": [
        {
          "output_type": "stream",
          "name": "stdout",
          "text": [
            "In a peaceful neighborhood, we find a curious white cat and an energetic brown dog living next door to each other.\n",
            "They lead separate lives, unaware of the incredible friendship that awaits them.\n",
            "One sunny day, as the white cat strolls through the neighborhood, it spots the brown dog playing with a ball in the backyard.\n",
            "Intrigued, the white cat approaches cautiously, and their blue eyes meet for the first current time.\n",
            "\n",
            "The white cat and brown dog engage in a playful game of chase, running through the park and rolling in the grass.\n",
            "Their high energy and excitement bring laughter and joy to both.\n",
            "As the past days pass, the white cat and brown dog embark on countless adventures together.\n",
            "They explore hidden paths, climb trees, and discover new places, creating lasting memories.\n",
            "During a stormy night, the white cat seeks shelter under a porch, scared by the thunder.\n",
            "The brown dog rushes to its side, providing comfort and reassurance.\n",
            "Their intact bond strengthens as they offer support to one another.\n",
            "\n",
            "The white cat teaches the brown dog the art of stealth and graceful movements, while the brown dog shows the white cat the thrill of a game of fetch.\n",
            "They learn from each other's unique abilities, making them a formidable team.\n",
            "\n",
            "In a moment of danger, the white cat and brown dog stand together, bravely protecting each other.\n",
            "Their unwavering loyalty and friendship prevail, showcasing the strength of their intact bond.\n",
            "As current time goes by, heartwarming moments become a part of their daily lives.\n",
            "They cuddle together under a warm blanket, share meals, and express their affection through gentle nudges and purrs.\n",
            "\n",
            "To celebrate their incredible friendship, the white cat and brown dog gather their animal friends for a joyful party.\n",
            "enormus Laughter, games, and a sense of camaraderie filled the air, showcasing the power of friendship among different species.\n",
            "In a quiet moment, the white cat and brown dog sit side by side, reflecting on their journey.\n",
            "They express gratitude for finding each other and the profound joy and companionship they've experienced.\n",
            "\n"
          ]
        }
      ]
    },
    {
      "cell_type": "code",
      "source": [
        "sentences = [sent.text for sent in doc1.sents]\n",
        "print(sentences)"
      ],
      "metadata": {
        "colab": {
          "base_uri": "https://localhost:8080/"
        },
        "id": "vivpkFH3Q8Gd",
        "outputId": "23ea4ff0-3573-4798-be01-476ab86b6536"
      },
      "execution_count": null,
      "outputs": [
        {
          "output_type": "stream",
          "name": "stdout",
          "text": [
            "['In a peaceful neighborhood, we find a curious white cat and an energetic brown dog living next door to each other.', 'They lead separate lives, unaware of the incredible friendship that awaits them.', 'One sunny day, as the white cat strolls through the neighborhood, it spots the brown dog playing with a ball in the backyard.', 'Intrigued, the white cat approaches cautiously, and their blue eyes meet for the first current time.\\n', 'The white cat and brown dog engage in a playful game of chase, running through the park and rolling in the grass.', 'Their high energy and excitement bring laughter and joy to both.', 'As the past days pass, the white cat and brown dog embark on countless adventures together.', 'They explore hidden paths, climb trees, and discover new places, creating lasting memories.', 'During a stormy night, the white cat seeks shelter under a porch, scared by the thunder.', 'The brown dog rushes to its side, providing comfort and reassurance.', 'Their intact bond strengthens as they offer support to one another.\\n', 'The white cat teaches the brown dog the art of stealth and graceful movements, while the brown dog shows the white cat the thrill of a game of fetch.', \"They learn from each other's unique abilities, making them a formidable team.\\n\", 'In a moment of danger, the white cat and brown dog stand together, bravely protecting each other.', 'Their unwavering loyalty and friendship prevail, showcasing the strength of their intact bond.', 'As current time goes by, heartwarming moments become a part of their daily lives.', 'They cuddle together under a warm blanket, share meals, and express their affection through gentle nudges and purrs.\\n', 'To celebrate their incredible friendship, the white cat and brown dog gather their animal friends for a joyful party.', 'enormus Laughter, games, and a sense of camaraderie filled the air, showcasing the power of friendship among different species.', 'In a quiet moment, the white cat and brown dog sit side by side, reflecting on their journey.', \"They express gratitude for finding each other and the profound joy and companionship they've experienced.\\n\"]\n"
          ]
        }
      ]
    }
  ]
}